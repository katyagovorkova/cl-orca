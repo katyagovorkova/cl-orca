{
  "nbformat": 4,
  "nbformat_minor": 0,
  "metadata": {
    "colab": {
      "provenance": []
    },
    "kernelspec": {
      "name": "python3",
      "display_name": "Python 3"
    },
    "language_info": {
      "name": "python"
    }
  },
  "cells": [
    {
      "cell_type": "code",
      "execution_count": null,
      "metadata": {
        "id": "gy-7kVgXx_11"
      },
      "outputs": [],
      "source": [
        "import numpy as np\n",
        "from matplotlib import pyplot as plt"
      ]
    },
    {
      "cell_type": "code",
      "source": [
        "# f = np.load('simclr_predictions.npz')\n",
        "kyle = np.load('/input/Self-supervised SimCLR with MLP.npz', allow_pickle=True)"
      ],
      "metadata": {
        "id": "7uY9KHeiyb82"
      },
      "execution_count": null,
      "outputs": []
    },
    {
      "cell_type": "code",
      "source": [
        "for k in kyle.keys(): print(k)"
      ],
      "metadata": {
        "colab": {
          "base_uri": "https://localhost:8080/"
        },
        "id": "U-Yw0zduyhuw",
        "outputId": "13e89df7-515c-4436-a6ae-d33b4e1227d2"
      },
      "execution_count": null,
      "outputs": [
        {
          "output_type": "stream",
          "name": "stdout",
          "text": [
            "accuracies\n",
            "info\n"
          ]
        }
      ]
    },
    {
      "cell_type": "code",
      "source": [
        "kyle['info']"
      ],
      "metadata": {
        "colab": {
          "base_uri": "https://localhost:8080/"
        },
        "id": "qwwhHqLEyi2Q",
        "outputId": "eb928d23-bda9-4999-e511-b33e4299bb9f"
      },
      "execution_count": null,
      "outputs": [
        {
          "output_type": "execute_result",
          "data": {
            "text/plain": [
              "array({'array dim0': \"run ID's\", 'array dim1': 'latent space dimension', 'array dim2': 'mean accuracy over 5 k-folded runs', 'array dim3': 'mean standard deviation over 5 k-folded runs'},\n",
              "      dtype=object)"
            ]
          },
          "metadata": {},
          "execution_count": 11
        }
      ]
    },
    {
      "cell_type": "code",
      "source": [
        "print('Shape:', kyle['accuracies'].shape)\n",
        "print(kyle['accuracies'])"
      ],
      "metadata": {
        "id": "PDQCCyCoyv8C",
        "colab": {
          "base_uri": "https://localhost:8080/"
        },
        "outputId": "8f45fd4a-2fc6-48aa-ccad-bb22e072d9c4"
      },
      "execution_count": null,
      "outputs": [
        {
          "output_type": "stream",
          "name": "stdout",
          "text": [
            "Shape: (5, 4)\n",
            "[[2.490e+02 6.000e+00 7.777e+01 4.500e-01]\n",
            " [2.450e+02 8.000e+00 8.088e+01 4.000e-01]\n",
            " [2.500e+02 1.600e+01 8.431e+01 2.000e-01]\n",
            " [2.470e+02 3.200e+01 8.599e+01 2.900e-01]\n",
            " [2.650e+02 6.400e+01 8.772e+01 1.600e-01]]\n"
          ]
        }
      ]
    },
    {
      "cell_type": "code",
      "source": [
        "dims = [2, 4, 6, 8, 16, 32, 64]\n",
        "x_val = []\n",
        "y_val = []\n",
        "y_err = []\n",
        "for d in dims:\n",
        "  x_val.append(d)\n",
        "  if d in kyle['accuracies'][:,1].flatten():\n",
        "    d_idx = np.where(kyle['accuracies']==d)[0][0]\n",
        "    y_val.append(kyle['accuracies'][d_idx, 2])\n",
        "    y_err.append(kyle['accuracies'][d_idx, 3])\n",
        "  else:\n",
        "    y_val.append(0)\n",
        "    y_err.append(0)\n"
      ],
      "metadata": {
        "id": "EkevB39IXO0j"
      },
      "execution_count": null,
      "outputs": []
    },
    {
      "cell_type": "code",
      "source": [
        "x_val"
      ],
      "metadata": {
        "colab": {
          "base_uri": "https://localhost:8080/"
        },
        "id": "GH6QdcgqewbW",
        "outputId": "0d558a73-4770-48bc-ab91-d1d7ead43866"
      },
      "execution_count": null,
      "outputs": [
        {
          "output_type": "execute_result",
          "data": {
            "text/plain": [
              "[2, 4, 6, 8, 16, 32, 64]"
            ]
          },
          "metadata": {},
          "execution_count": 44
        }
      ]
    },
    {
      "cell_type": "code",
      "source": [
        "y_val"
      ],
      "metadata": {
        "colab": {
          "base_uri": "https://localhost:8080/"
        },
        "id": "Exjffx0tZEpR",
        "outputId": "cfa6db49-a22a-4a0a-f2a3-7ec8d1e85b09"
      },
      "execution_count": null,
      "outputs": [
        {
          "output_type": "execute_result",
          "data": {
            "text/plain": [
              "[0, 0, 77.77, 80.88, 84.31, 85.99, 87.72]"
            ]
          },
          "metadata": {},
          "execution_count": 32
        }
      ]
    },
    {
      "cell_type": "code",
      "source": [
        "y_err"
      ],
      "metadata": {
        "colab": {
          "base_uri": "https://localhost:8080/"
        },
        "id": "JIGoCwvrZyMA",
        "outputId": "96b18ba0-7d55-42f2-c69b-3a016c80bdcb"
      },
      "execution_count": null,
      "outputs": [
        {
          "output_type": "execute_result",
          "data": {
            "text/plain": [
              "[0, 0, 0.45, 0.4, 0.2, 0.29, 0.16]"
            ]
          },
          "metadata": {},
          "execution_count": 33
        }
      ]
    },
    {
      "cell_type": "code",
      "source": [
        "plt.errorbar(x_val, y_val, y_err, fmt='.', label='self-supervised SimCLR -- Kyle')\n",
        "plt.ylim(75, 95)\n",
        "plt.xlabel('Latent dimension size')\n",
        "plt.ylabel('Accuracy')\n",
        "plt.xticks(x_val)\n",
        "plt.legend()"
      ],
      "metadata": {
        "colab": {
          "base_uri": "https://localhost:8080/",
          "height": 473
        },
        "id": "unmFX-j-ZzCL",
        "outputId": "1eabbd34-2d94-4775-f7ad-e53878be8c70"
      },
      "execution_count": null,
      "outputs": [
        {
          "output_type": "execute_result",
          "data": {
            "text/plain": [
              "<matplotlib.legend.Legend at 0x7bc52ac12980>"
            ]
          },
          "metadata": {},
          "execution_count": 48
        },
        {
          "output_type": "display_data",
          "data": {
            "text/plain": [
              "<Figure size 640x480 with 1 Axes>"
            ],
            "image/png": "[encoded data removed]"
          },
          "metadata": {}
        }
      ]
    },
    {
      "cell_type": "code",
      "source": [],
      "metadata": {
        "id": "5OyyEgc2aIkE"
      },
      "execution_count": null,
      "outputs": []
    }
  ]
}